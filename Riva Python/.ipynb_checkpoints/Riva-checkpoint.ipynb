{
 "cells": [
  {
   "cell_type": "markdown",
   "id": "68b0dd7f-c33b-4ffe-9bc8-94994eb682f0",
   "metadata": {
    "tags": []
   },
   "source": [
    "RIVA - 4DOF Inverse Kinematics using IKPY and Rover Controls\n",
    "==================================\n",
    "\n",
    "RIVA -\n",
    "This code base was written by Jesse Russell as part of the ESE program. This was meant to be an interface between R-PI and STM Nucleo. This intgrates portions of URDF to calculate join positions as well as interfacing with the serial port sending commands and inturpreting Bluetooth controler commands\n",
    "\n",
    "\n",
    "We need to calculate IK and to do so we us IKPy\n",
    "To simulate robot movments we will use jupyterlab-urdf \n",
    "\n",
    "\n",
    "First Importing required libs\n",
    "\n",
    "need to add \n",
    "import serial for comms"
   ]
  },
  {
   "cell_type": "code",
   "execution_count": null,
   "id": "6960c61f-ba83-4d4a-846f-d40473ccbee0",
   "metadata": {
    "scrolled": true,
    "tags": []
   },
   "outputs": [],
   "source": [
    "\n",
    "\n",
    "\n",
    "import ikpy.chain\n",
    "import ikpy.utils.plot as plot_utils\n",
    "\n",
    "import numpy as np\n",
    "import time\n",
    "import math\n",
    "\n",
    "import ipywidgets as widgets\n",
    "\n"
   ]
  },
  {
   "cell_type": "markdown",
   "id": "4499d685-9797-4ef7-abba-9fe145c9f555",
   "metadata": {},
   "source": [
    "Now, we can import our robot arm model from the URDF file. The first link is the link between the desk and the base, so we set it to inactive"
   ]
  },
  {
   "cell_type": "code",
   "execution_count": 7,
   "id": "3224c696-c8b6-4599-91b6-62205a08963e",
   "metadata": {
    "tags": []
   },
   "outputs": [
    {
     "name": "stdout",
     "output_type": "stream",
     "text": [
      "Number of links in URDF: 2\n",
      "Links in URDF: ['Base link', 'shoulder_juncture_joint']\n"
     ]
    },
    {
     "name": "stderr",
     "output_type": "stream",
     "text": [
      "C:\\Users\\Jessr\\anaconda3\\Lib\\site-packages\\ikpy\\chain.py:60: UserWarning: Link Base link (index: 0) is of type 'fixed' but set as active in the active_links_mask. In practice, this fixed link doesn't provide any transformation so is as it were inactive\n",
      "  warnings.warn(\"Link {} (index: {}) is of type 'fixed' but set as active in the active_links_mask. In practice, this fixed link doesn't provide any transformation so is as it were inactive\".format(link.name, link_index))\n",
      "C:\\Users\\Jessr\\anaconda3\\Lib\\site-packages\\ikpy\\chain.py:60: UserWarning: Link shoulder_juncture_joint (index: 1) is of type 'fixed' but set as active in the active_links_mask. In practice, this fixed link doesn't provide any transformation so is as it were inactive\n",
      "  warnings.warn(\"Link {} (index: {}) is of type 'fixed' but set as active in the active_links_mask. In practice, this fixed link doesn't provide any transformation so is as it were inactive\".format(link.name, link_index))\n"
     ]
    }
   ],
   "source": [
    "import ikpy.chain\n",
    "import ikpy.link\n",
    "\n",
    "# Load URDF and check the number of links\n",
    "urdf_file = \"arm_urdf.urdf\"\n",
    "links = ikpy.chain.Chain.from_urdf_file(urdf_file).links\n",
    "print(\"Number of links in URDF:\", len(links))\n",
    "print(\"Links in URDF:\", [link.name for link in links])\n"
   ]
  },
  {
   "cell_type": "markdown",
   "id": "ee625637-afd4-459e-a0da-87738125f6da",
   "metadata": {},
   "source": [
    "And set the initial position and orientation of the last joint"
   ]
  },
  {
   "cell_type": "code",
   "execution_count": 8,
   "id": "2cdfa64b-2194-4ad3-a61b-5a5439477b68",
   "metadata": {
    "tags": []
   },
   "outputs": [],
   "source": [
    "target_position = [ 0.58, 0.58,0.58]\n",
    "\n",
    "target_orientation = [-1, 0, 0]"
   ]
  },
  {
   "cell_type": "markdown",
   "id": "1d1c3e01-d7e4-453d-9947-24f372cd77d0",
   "metadata": {},
   "source": [
    "It's now just one call to work out he inverse kinematics for that position. Again, the first angle is of the inactive joint between the desk and the base so is always 0"
   ]
  },
  {
   "cell_type": "code",
   "execution_count": 9,
   "id": "36b9cc08-93e7-4890-a8bc-4a825c87daa7",
   "metadata": {
    "tags": []
   },
   "outputs": [
    {
     "ename": "NameError",
     "evalue": "name 'my_chain' is not defined",
     "output_type": "error",
     "traceback": [
      "\u001b[1;31m---------------------------------------------------------------------------\u001b[0m",
      "\u001b[1;31mNameError\u001b[0m                                 Traceback (most recent call last)",
      "Cell \u001b[1;32mIn[9], line 1\u001b[0m\n\u001b[1;32m----> 1\u001b[0m ik \u001b[38;5;241m=\u001b[39m my_chain\u001b[38;5;241m.\u001b[39minverse_kinematics(target_position, target_orientation, orientation_mode\u001b[38;5;241m=\u001b[39m\u001b[38;5;124m\"\u001b[39m\u001b[38;5;124mY\u001b[39m\u001b[38;5;124m\"\u001b[39m)\n\u001b[0;32m      2\u001b[0m \u001b[38;5;28mprint\u001b[39m(\u001b[38;5;124m\"\u001b[39m\u001b[38;5;124mThe angles of each joints are : \u001b[39m\u001b[38;5;124m\"\u001b[39m, \u001b[38;5;28mlist\u001b[39m(\u001b[38;5;28mmap\u001b[39m(\u001b[38;5;28;01mlambda\u001b[39;00m r:math\u001b[38;5;241m.\u001b[39mdegrees(r),ik\u001b[38;5;241m.\u001b[39mtolist())))\n",
      "\u001b[1;31mNameError\u001b[0m: name 'my_chain' is not defined"
     ]
    }
   ],
   "source": [
    "ik = my_chain.inverse_kinematics(target_position, target_orientation, orientation_mode=\"Y\")\n",
    "print(\"The angles of each joints are : \", list(map(lambda r:math.degrees(r),ik.tolist())))"
   ]
  },
  {
   "cell_type": "markdown",
   "id": "7ecfb30c-0586-4bce-bbc8-2e13d5e5092d",
   "metadata": {},
   "source": [
    "We can see that actual position our robot will move to. This may be different to _target_position_ as the arm may not be physically able to reach that position"
   ]
  },
  {
   "cell_type": "code",
   "execution_count": null,
   "id": "55196648-c86d-4a51-9d54-8a6a53f8ad1d",
   "metadata": {
    "tags": []
   },
   "outputs": [],
   "source": [
    "computed_position = my_chain.forward_kinematics(ik)\n",
    "print(\"Computed position: %s, original position : %s\" % (computed_position[:3, 3], target_position))\n",
    "print(\"Computed position (readable) : %s\" % [ '%.2f' % elem for elem in computed_position[:3, 3] ])"
   ]
  },
  {
   "cell_type": "markdown",
   "id": "4b7f5b63-2a4d-4e92-a6e2-95fda2ba08ef",
   "metadata": {},
   "source": [
    "Now, lets visualise what our arm looks"
   ]
  },
  {
   "cell_type": "code",
   "execution_count": null,
   "id": "480b6e4a",
   "metadata": {
    "tags": []
   },
   "outputs": [],
   "source": [
    "# %matplotlib widget\n",
    "#%matplotlib widget\n",
    "import matplotlib.pyplot as plt\n",
    "fig, ax = plot_utils.init_3d_figure()\n",
    "fig.set_figheight(9)  \n",
    "fig.set_figwidth(13)  \n",
    "my_chain.plot(ik, ax, target=target_position)\n",
    "plt.xlim(-0.5, 0.5)\n",
    "plt.ylim(-0.5, 0.5)\n",
    "ax.set_zlim(0, 0.6)\n",
    "plt.ion()"
   ]
  },
  {
   "cell_type": "markdown",
   "id": "63c5a174-61a5-4d0f-a97d-d14c809ca5a3",
   "metadata": {},
   "source": [
    "Let's now make wrap up some of these calls into a couple of functions. Calling _move(x,y,z)_ will move us to the new coordinates and update the plot.\n",
    "\n",
    "It's worth noting here that when we call _inverse_kinematcs_, we pass in the old position (joint angles) as _initial_position_ so IKPY find the nearest solution to our current position."
   ]
  },
  {
   "cell_type": "code",
   "execution_count": null,
   "id": "2dc7f2b0-8ce5-4864-9c16-0cb725414074",
   "metadata": {
    "tags": []
   },
   "outputs": [],
   "source": [
    "def doIK():\n",
    "    global ik\n",
    "    old_position= ik.copy()\n",
    "    ik = my_chain.inverse_kinematics(target_position, target_orientation, orientation_mode=\"Z\", initial_position=old_position)\n",
    "\n",
    "def updatePlot():\n",
    "    ax.clear()\n",
    "    my_chain.plot(ik, ax, target=target_position)\n",
    "    plt.xlim(-0.5, 0.5)\n",
    "    plt.ylim(-0.5, 0.5)\n",
    "    ax.set_zlim(0, 0.6)\n",
    "    fig.canvas.draw()\n",
    "    fig.canvas.flush_events()\n",
    "    \n",
    "def move(x,y,z):\n",
    "    global target_position\n",
    "    target_position = [x,y,z]\n",
    "    doIK()\n",
    "    updatePlot()\n",
    "\n",
    "    sendCommand(ik[1].item(),ik[2].item(),ik[3].item(),ik[4].item(),ik[5].item(),ik[6].item(),1)"
   ]
  },
  {
   "cell_type": "markdown",
   "id": "a8759e2d-cdf6-475a-abcd-97ef1594ae71",
   "metadata": {},
   "source": [
    "We should now be able to move our visualised arm with a call to _move(x,y,z)_"
   ]
  },
  {
   "cell_type": "code",
   "execution_count": null,
   "id": "c732b6b2-c4c1-4dbd-9495-0d92acb39335",
   "metadata": {
    "tags": []
   },
   "outputs": [],
   "source": [
    "move(0,0.2,0.3)"
   ]
  },
  {
   "cell_type": "markdown",
   "id": "3edc6cbe-b44f-46c2-b757-ce18edf7c9cf",
   "metadata": {
    "tags": []
   },
   "source": [
    "Let's now connect to our robot arm and create a function to send the angles to it. We just have to uncomment that _sendcommand_ line in the move function to make this work"
   ]
  },
  {
   "cell_type": "code",
   "execution_count": null,
   "id": "c2c8b386-30ce-47af-9293-11943ddb80e3",
   "metadata": {
    "tags": []
   },
   "outputs": [],
   "source": [
    "ser = serial.Serial('COM3',9600, timeout=1)\n",
    "\n",
    "def sendCommand(a,b,c,d,e,f,move_time):\n",
    "    command = '0{:.2f} 1{:.2f} 2{:.2f} 3{:.2f} 4{:.2f} 5{:.2f} t{:.2f}\\n'.format(math.degrees(a),math.degrees(b),math.degrees(c),math.degrees(d),math.degrees(e),math.degrees(f),move_time)\n",
    "    ser.write(command.encode('ASCII'))"
   ]
  },
  {
   "cell_type": "code",
   "execution_count": null,
   "id": "f9c8b208-25cf-425c-83d9-eae76e4761c3",
   "metadata": {
    "tags": []
   },
   "outputs": [],
   "source": [
    "# we'll call sendCommand once with a move time of 4s so the robot slowly moves to the initial point\n",
    "sendCommand(ik[1].item(),ik[2].item(),ik[3].item(),ik[4].item(),ik[5].item(),ik[6].item(),4)"
   ]
  },
  {
   "cell_type": "markdown",
   "id": "448b8693-da92-4e59-992f-c6a531e63d22",
   "metadata": {},
   "source": [
    "But that's a bit boring, why don't we hook up a game controller and make the joysticks move the visualised arm!"
   ]
  },
  {
   "cell_type": "code",
   "execution_count": null,
   "id": "8a5eba92-c023-4545-a909-ca1fc955195a",
   "metadata": {
    "tags": []
   },
   "outputs": [],
   "source": [
    "import ipywidgets as widgets\n",
    "con = widgets.Controller()\n",
    "display(con)"
   ]
  },
  {
   "cell_type": "markdown",
   "id": "421ffcc4-08ae-43f9-a926-b97db1a34242",
   "metadata": {},
   "source": [
    "We'll need a task running in the background to monitor the controller and call move. Pressing the start button on the controller will end this task."
   ]
  },
  {
   "cell_type": "code",
   "execution_count": null,
   "id": "afb46029-7ab3-4f9b-b555-3cee59c10934",
   "metadata": {
    "tags": []
   },
   "outputs": [],
   "source": [
    "import asyncio\n",
    "\n",
    "async def main():\n",
    "    x=0\n",
    "    y=0.25\n",
    "    z=0.1\n",
    "    while con.buttons[9].value<1:\n",
    "        xp=con.axes[0].value\n",
    "        yp=con.axes[1].value\n",
    "        zp=con.axes[2].value\n",
    "        if(abs(xp)>0.1 or abs(yp)>0.1 or abs(zp)>0.1):\n",
    "            x=x+xp/100\n",
    "            y=y-yp/100\n",
    "            z=z-zp/100\n",
    "            move(x,y,z)\n",
    "        await asyncio.sleep(0.05)\n",
    "\n",
    "\n",
    "loop = asyncio.get_event_loop()\n",
    "loop.create_task(main())"
   ]
  },
  {
   "cell_type": "markdown",
   "id": "b9e40037-e198-4230-9634-39672cf9c1a3",
   "metadata": {},
   "source": [
    "And, when we're done we can close the serial port."
   ]
  },
  {
   "cell_type": "code",
   "execution_count": null,
   "id": "555b9e87-c2b0-416e-b122-8b6b4304fb4b",
   "metadata": {},
   "outputs": [],
   "source": []
  },
  {
   "cell_type": "code",
   "execution_count": null,
   "id": "f12830f6",
   "metadata": {},
   "outputs": [],
   "source": []
  },
  {
   "cell_type": "code",
   "execution_count": null,
   "id": "2036b770",
   "metadata": {},
   "outputs": [],
   "source": []
  },
  {
   "cell_type": "code",
   "execution_count": null,
   "id": "bce9fa23",
   "metadata": {},
   "outputs": [],
   "source": []
  },
  {
   "cell_type": "code",
   "execution_count": null,
   "id": "04cead86",
   "metadata": {},
   "outputs": [],
   "source": []
  }
 ],
 "metadata": {
  "kernelspec": {
   "display_name": "Python 3 (ipykernel)",
   "language": "python",
   "name": "python3"
  },
  "language_info": {
   "codemirror_mode": {
    "name": "ipython",
    "version": 3
   },
   "file_extension": ".py",
   "mimetype": "text/x-python",
   "name": "python",
   "nbconvert_exporter": "python",
   "pygments_lexer": "ipython3",
   "version": "3.11.5"
  }
 },
 "nbformat": 4,
 "nbformat_minor": 5
}
